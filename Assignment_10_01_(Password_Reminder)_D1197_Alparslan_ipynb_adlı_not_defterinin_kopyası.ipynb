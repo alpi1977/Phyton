{
  "nbformat": 4,
  "nbformat_minor": 0,
  "metadata": {
    "colab": {
      "name": "Assignment - 10/01 (Password Reminder)_D1197-Alparslan.ipynb adlı not defterinin kopyası",
      "provenance": [],
      "collapsed_sections": []
    },
    "kernelspec": {
      "name": "python3",
      "display_name": "Python 3"
    },
    "language_info": {
      "name": "python"
    }
  },
  "cells": [
    {
      "cell_type": "code",
      "metadata": {
        "id": "tAIUPSG7OGB3"
      },
      "source": [
        "# Let's say; you left a message in the past that prints a password you need. \n",
        "# To see the password you wrote, you need to enter your name and the program should recognize you.\n",
        "# Write a program that \n",
        "\n",
        "# Takes the first name from the user and compares it to yours,\n",
        "# Then if the name the user entered is the same as yours, print out such as : \"Hello, Joseph! The password is : W@12\",\n",
        "# If the name the user entered is not the same as yours, print out such as : \"Hello, Amina! See you later.\"\n",
        "\n",
        "\n",
        "first_name = input(\"Enter your first name: \")\n",
        "first_name = first_name.title()\n",
        "your_name =  \"Joseph\"\n",
        "\n",
        "if first_name == your_name :\n",
        "  \n",
        "  print(\"Hello, Joseph! The password is : W@12\")\n",
        "\n",
        "else : \n",
        "  \n",
        "  print (\"Hello, Amina! See you later.\")"
      ],
      "execution_count": null,
      "outputs": []
    }
  ]
}