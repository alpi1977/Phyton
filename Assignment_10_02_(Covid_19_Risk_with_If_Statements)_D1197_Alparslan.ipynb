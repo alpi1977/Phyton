{
  "nbformat": 4,
  "nbformat_minor": 0,
  "metadata": {
    "colab": {
      "name": "Assignment - 10/02 (Covid-19 Risk with If Statements)_D1197-Alparslan.ipynb",
      "provenance": [],
      "collapsed_sections": []
    },
    "kernelspec": {
      "name": "python3",
      "display_name": "Python 3"
    },
    "language_info": {
      "name": "python"
    }
  },
  "cells": [
    {
      "cell_type": "code",
      "metadata": {
        "id": "5d4-ZxtKUBRI"
      },
      "source": [
        "# Task : Estimating the risk of death from coronavirus. Write a program that;\n",
        "\n",
        "# Takes \"Yes\" or \"No\" from the user as an answer to the following questions :\n",
        "\n",
        "# Are you a cigarette addict older than 75 years old? Variable → age\n",
        "\n",
        "# Do you have a severe chronic disease? Variable → chronic\n",
        "\n",
        "# Is your immune system too weak? Variable → immune\n",
        "\n",
        "# Set a logical algorithm using boolean logic operators (and/or) and use if-statements with \n",
        "# the given variables in order to print out us a message : \"You are in risky group\"(if True ) or \"You are not in risky group\" (if False).\n",
        "\n",
        "age = input(\"Are you a cigarette addict older than 75 years old? Yes or No : \")\n",
        "chronic = input(\"Do you have a severe chronic disease? Yes or No : \")\n",
        "immune = input(\"Is your immune system too weak? Yes or No : \")\n",
        "\n",
        "risk = age or chronic or immune\n",
        "\n",
        "if risk == \"Yes\" :\n",
        "  print(\"You are in risky group\")\n",
        "\n",
        "elif risk == \"No\" :\n",
        "  print(\"You are not in risky group\")\n",
        "\n",
        "else :\n",
        "  print(\"Please enter capitalized Yes or No\")\n",
        "  \n",
        "  "
      ],
      "execution_count": null,
      "outputs": []
    }
  ]
}